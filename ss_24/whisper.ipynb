{
 "cells": [
  {
   "cell_type": "markdown",
   "id": "219227b4-613b-4978-afe6-df2ccab3a08e",
   "metadata": {},
   "source": [
    "# 0. Install required libraries, define constants, and create folders\n",
    "\n",
    "The required libraries need only be installed once. The must be imported everytime you restart the Python kernel."
   ]
  },
  {
   "cell_type": "code",
   "execution_count": null,
   "id": "751c5377-81d3-4318-9fe3-223f086bd79b",
   "metadata": {},
   "outputs": [],
   "source": [
    "pip install yt-dlp torch transformers accelerate"
   ]
  },
  {
   "cell_type": "code",
   "execution_count": null,
   "id": "c69e71ed-61fd-4226-9071-e1942ae7b4cb",
   "metadata": {},
   "outputs": [],
   "source": [
    "%env HF_HOME=/cluster/user/nimeseth/.cache\n",
    "%env HF_DATASETS_CACHE=/cluster/user/nimeseth/datasets"
   ]
  },
  {
   "cell_type": "code",
   "execution_count": null,
   "id": "4631e85e-87d1-47f3-a148-6510b1946f4e",
   "metadata": {},
   "outputs": [],
   "source": [
    "VIDEO_OUTPUT_FOLDER = \"tmp_videos\"\n",
    "AUDIO_OUTPUT_FOLDER = \"tmp_audio\"\n",
    "TRANSCRIPTS_OUTPUT_FOLDER = \"transcripts\""
   ]
  },
  {
   "cell_type": "code",
   "execution_count": null,
   "id": "85c230f2-a79e-447d-ba50-f2c9bab2473e",
   "metadata": {},
   "outputs": [],
   "source": [
    "import os\n",
    "\n",
    "folders = [VIDEO_OUTPUT_FOLDER, AUDIO_OUTPUT_FOLDER, TRANSCRIPTS_OUTPUT_FOLDER]\n",
    "\n",
    "for folder in folders:\n",
    "    # Check if the folder exists, if not, create it\n",
    "    if not os.path.exists(folder):\n",
    "        os.makedirs(folder)\n",
    "        print(f\"Folder '{folder}' created.\")\n",
    "    else:\n",
    "        print(f\"Folder '{folder}' already exists.\")\n"
   ]
  },
  {
   "cell_type": "markdown",
   "id": "ae00cf5e-bd7f-47b4-93be-386234ad72f5",
   "metadata": {},
   "source": [
    "# 1. Define function to download and extract YouTube videos"
   ]
  },
  {
   "cell_type": "code",
   "execution_count": null,
   "id": "469eee4f-bbcf-4747-8082-c630bac59a0b",
   "metadata": {},
   "outputs": [],
   "source": [
    "import yt_dlp\n",
    "\n",
    "# Takes the ID of an YouTube video and extracts the audio as a .wav file and stores it in the AUDIO_OUTPUT_FOLDER\n",
    "def download_audio_from_youtube(yt_id):\n",
    "    url = f\"https://youtube.com/watch?v={yt_id}\"\n",
    "  \n",
    "    # Configure yt-dlp options\n",
    "    ydl_opts = {\n",
    "        'format': 'bestaudio/best',\n",
    "        'postprocessors': [{\n",
    "            'key': 'FFmpegExtractAudio',\n",
    "            'preferredcodec': 'wav',\n",
    "            'preferredquality': '192',\n",
    "        }],\n",
    "        'outtmpl': f\"{AUDIO_OUTPUT_FOLDER}/{yt_id}.%(ext)s\"\n",
    "    }\n",
    " \n",
    "    # Download audio using yt-dlp\n",
    "    with yt_dlp.YoutubeDL(ydl_opts) as ydl:\n",
    "        ydl.download([url])\n",
    "\n",
    "    return output_file"
   ]
  },
  {
   "cell_type": "markdown",
   "id": "81b214c6-5db3-4464-92db-3419a023d860",
   "metadata": {},
   "source": [
    "# 2. Download and setup OpenAI Whisper v3 model for transcription\n",
    "\n",
    "The download of the large Whisper v3 model must only be done once. This may take a few minutes."
   ]
  },
  {
   "cell_type": "code",
   "execution_count": null,
   "id": "aabbe61b-a47a-4f84-9d19-dc25756b3321",
   "metadata": {},
   "outputs": [],
   "source": [
    "import torch\n",
    "from transformers import AutoModelForSpeechSeq2Seq, AutoProcessor, pipeline\n",
    "\n",
    "device = \"cuda:0\" if torch.cuda.is_available() else \"cpu\"\n",
    "torch_dtype = torch.float16 if torch.cuda.is_available() else torch.float32\n",
    "\n",
    "model_id = \"openai/whisper-large-v3\"\n",
    "\n",
    "model = AutoModelForSpeechSeq2Seq.from_pretrained(model_id, torch_dtype=torch_dtype, low_cpu_mem_usage=True, use_safetensors=True)\n",
    "\n",
    "model.to(device)\n",
    "\n",
    "processor = AutoProcessor.from_pretrained(model_id)\n",
    "\n",
    "pipe = pipeline(\n",
    "    \"automatic-speech-recognition\",\n",
    "    model=model,\n",
    "    tokenizer=processor.tokenizer,\n",
    "    feature_extractor=processor.feature_extractor,\n",
    "    max_new_tokens=128,\n",
    "    chunk_length_s=30,\n",
    "    batch_size=16,\n",
    "    return_timestamps=True,\n",
    "    torch_dtype=torch_dtype,\n",
    "    device=device\n",
    ")"
   ]
  },
  {
   "cell_type": "markdown",
   "id": "f82212a4-d857-4da4-9f7c-c65b4c177dbf",
   "metadata": {},
   "source": [
    "# 3. Define a function to transcribe an audio file using Whisper v3"
   ]
  },
  {
   "cell_type": "code",
   "execution_count": null,
   "id": "ac00768c-aa0b-498b-b95a-1b406072ce00",
   "metadata": {},
   "outputs": [],
   "source": [
    "def transcribe_audio_file(yt_id, language = None):\n",
    "\n",
    "    if language is None:\n",
    "        result = pipe(f\"{AUDIO_OUTPUT_FOLDER}/{yt_id}.wav\")\n",
    "    else:\n",
    "        result = pipe(f\"{AUDIO_OUTPUT_FOLDER}/{yt_id}.wav\", generate_kwargs={\"language\": language})\n",
    "\n",
    "    with open(f\"{TRANSCRIPTS_OUTPUT_FOLDER}/{yt_id}.txt\", 'w', encoding='utf-8') as file:\n",
    "        file.write(result[\"text\"].strip())"
   ]
  },
  {
   "cell_type": "markdown",
   "id": "e631611d-2fb0-4e92-9fee-190960bfa226",
   "metadata": {},
   "source": [
    "# 4. Process YouTube videos from a list of IDs"
   ]
  },
  {
   "cell_type": "code",
   "execution_count": null,
   "id": "a4211cdc-d965-4a03-8321-765c94cb02ff",
   "metadata": {},
   "outputs": [],
   "source": [
    "yt_ids = [\"hntauVlkxMU\", \"VWGfVQaixuc\"]\n",
    "\n",
    "for yt_id in yt_ids:\n",
    "    try:\n",
    "        print(f\"Downloading and extracting video {yt_id}\")\n",
    "        download_audio_from_youtube(yt_id)\n",
    "    \n",
    "        print(f\"Transcribing video {yt_id}\")\n",
    "        transcribe_audio_file(yt_id, language = \"german\")\n",
    "    \n",
    "        # Delete .wav file\n",
    "        os.remove(f\"{AUDIO_OUTPUT_FOLDER}/{yt_id}.wav\")\n",
    "    \n",
    "    except Exception as e:\n",
    "        print(f\"Error: {e}\")"
   ]
  },
  {
   "cell_type": "markdown",
   "id": "1508b232-1659-4f57-85f5-26f178a8522a",
   "metadata": {},
   "source": [
    "# 5. Process YoutTube videos from CSV file"
   ]
  },
  {
   "cell_type": "code",
   "execution_count": null,
   "id": "4eacff29-ea9a-4717-9357-22273f8b6951",
   "metadata": {},
   "outputs": [],
   "source": [
    "import csv\n",
    "\n",
    "# Change the file to yours\n",
    "CSV_INPUT = \"csv_output/videos_from_ted_channel.csv\"\n",
    "\n",
    "with open(CSV_INPUT, mode='r', encoding='utf-8') as file:\n",
    "    csv_reader = csv.reader(file)\n",
    "    header = next(csv_reader)\n",
    "\n",
    "    counter = 0\n",
    "    max_videos = 10\n",
    "    \n",
    "    for row in csv_reader:\n",
    "\n",
    "        if counter > max_videos:\n",
    "            break\n",
    "        \n",
    "        yt_id = row[2]\n",
    "        title = row[4]\n",
    "        duration = float(row[6])\n",
    "\n",
    "        if duration > 60*60:\n",
    "            continue\n",
    "\n",
    "        try:\n",
    "            print(f\"Downloading and extracting video {yt_id} with title '{title}'\")\n",
    "            download_audio_from_youtube(yt_id)\n",
    "        \n",
    "            print(f\"Transcribing video {yt_id} with title '{title}'\")\n",
    "            transcribe_audio_file(yt_id, language = \"english\")\n",
    "    \n",
    "            # Delete .wav file\n",
    "            os.remove(f\"{AUDIO_OUTPUT_FOLDER}/{yt_id}.wav\")\n",
    "\n",
    "        except Exception as e:\n",
    "            print(f\"Error: {e}\")\n",
    "\n",
    "        counter = counter + 1\n"
   ]
  }
 ],
 "metadata": {
  "kernelspec": {
   "display_name": "Python 3 (ipykernel)",
   "language": "python",
   "name": "python3"
  },
  "language_info": {
   "codemirror_mode": {
    "name": "ipython",
    "version": 3
   },
   "file_extension": ".py",
   "mimetype": "text/x-python",
   "name": "python",
   "nbconvert_exporter": "python",
   "pygments_lexer": "ipython3",
   "version": "3.11.5"
  }
 },
 "nbformat": 4,
 "nbformat_minor": 5
}
