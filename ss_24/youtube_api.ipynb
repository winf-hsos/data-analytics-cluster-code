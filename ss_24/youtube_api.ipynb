{
 "cells": [
  {
   "cell_type": "markdown",
   "id": "3c202439-0e6b-4660-b363-8d6ea54d0226",
   "metadata": {},
   "source": [
    "# 0. Install and load libraries, define constants and create folders\n",
    "The required libraries need only be installed once. They must be imported everytime you restart the Python kernel."
   ]
  },
  {
   "cell_type": "code",
   "execution_count": null,
   "id": "6025dd6b-8ba3-48c7-b442-043c015cc3cc",
   "metadata": {},
   "outputs": [],
   "source": [
    "pip install google-api-python-client isodate"
   ]
  },
  {
   "cell_type": "code",
   "execution_count": 1,
   "id": "f6454da0-a924-4e04-8671-2a8d52407a35",
   "metadata": {},
   "outputs": [],
   "source": [
    "from googleapiclient.discovery import build\n",
    "import csv\n",
    "import isodate"
   ]
  },
  {
   "cell_type": "code",
   "execution_count": 2,
   "id": "3ae3265d-2518-4410-9204-805b9f52b186",
   "metadata": {},
   "outputs": [],
   "source": [
    "# Replace this value with your YouTube API key (provided by instructor)\n",
    "API_KEY = \"<YOUR_API_KEY>\"\n",
    "CSV_OUTPUT_FOLDER = \"csv_output\""
   ]
  },
  {
   "cell_type": "code",
   "execution_count": null,
   "id": "27f495ea-378e-4054-a663-b41ec940612b",
   "metadata": {},
   "outputs": [],
   "source": [
    "import os\n",
    "\n",
    "# Check if the folder exists, if not, create it\n",
    "if not os.path.exists(CSV_OUTPUT_FOLDER):\n",
    "    os.makedirs(CSV_OUTPUT_FOLDER)\n",
    "    print(f\"Folder '{CSV_OUTPUT_FOLDER}' created.\")\n",
    "else:\n",
    "    print(f\"Folder '{CSV_OUTPUT_FOLDER}' already exists.\")\n"
   ]
  },
  {
   "cell_type": "markdown",
   "id": "20d22b0e-83fd-4361-866a-48b2babc9392",
   "metadata": {},
   "source": [
    "# 1. Define a function to get all videos from a channel\n",
    "\n",
    "The function `get_channel_videos` takes the API key and a valid ID of YouTube-channel and extracts all videos from the channel into a CSV-file."
   ]
  },
  {
   "cell_type": "code",
   "execution_count": 4,
   "id": "0c0e3dd6-ce96-47b8-9a32-48a36be9b13d",
   "metadata": {},
   "outputs": [],
   "source": [
    "# This function retrieves all videos from a YouTube channel with the given ID\n",
    "def get_channel_videos(channel_id):\n",
    "    youtube = build('youtube', 'v3', developerKey=API_KEY)\n",
    "\n",
    "    # Fetch the playlist ID for the channel's uploaded videos\n",
    "    request = youtube.channels().list(\n",
    "        part=\"contentDetails\",\n",
    "        id=channel_id\n",
    "    )\n",
    "    response = request.execute()\n",
    "    uploads_playlist_id = response['items'][0]['contentDetails']['relatedPlaylists']['uploads']\n",
    "\n",
    "    videos = []\n",
    "    next_page_token = None\n",
    "\n",
    "    while True:\n",
    "        # Fetch videos in the playlist\n",
    "        playlist_request = youtube.playlistItems().list(\n",
    "            part=\"snippet\",\n",
    "            playlistId=uploads_playlist_id,\n",
    "            maxResults=50,\n",
    "            pageToken=next_page_token\n",
    "        )\n",
    "        playlist_response = playlist_request.execute()\n",
    "\n",
    "        video_ids = [item['snippet']['resourceId']['videoId'] for item in playlist_response['items']]\n",
    "        \n",
    "        # Fetch video details (views and duration)\n",
    "        for i in range(0, len(video_ids), 50):\n",
    "            video_details_request = youtube.videos().list(\n",
    "                part=\"snippet,statistics,contentDetails\",\n",
    "                id=','.join(video_ids[i:i+50])\n",
    "            )\n",
    "            video_details_response = video_details_request.execute()\n",
    "\n",
    "            for video in video_details_response['items']:\n",
    "                video_data = {\n",
    "                    'published_at': video['snippet']['publishedAt'],\n",
    "                    'channel_id': video['snippet']['channelId'],\n",
    "                    'yt_id': video['id'],\n",
    "                    \"url\": f\"https://www.youtube.com/watch?v={video['id']}\",\n",
    "                    \"title\": video[\"snippet\"][\"title\"],\n",
    "                    \"description\": video[\"snippet\"][\"description\"],\n",
    "                    \"duration\": isodate.parse_duration(video['contentDetails']['duration']).total_seconds(),\n",
    "                    \"views\": video[\"statistics\"][\"viewCount\"],\n",
    "                    \"language\": video[\"snippet\"][\"defaultAudioLanguage\"] if \"defaultAudioLanguage\" in video[\"snippet\"] else \"N/A\",\n",
    "                    \"thumbnail\": video[\"snippet\"][\"thumbnails\"][\"high\"][\"url\"],\n",
    "                    \"channel_title\": video[\"snippet\"][\"channelTitle\"],\n",
    "                }\n",
    "                videos.append(video_data)\n",
    "\n",
    "        next_page_token = playlist_response.get('nextPageToken')\n",
    "        if next_page_token is None:\n",
    "            break\n",
    "\n",
    "    return videos"
   ]
  },
  {
   "cell_type": "markdown",
   "id": "57542e20-fe99-4dd6-a9ae-d18a0d03344d",
   "metadata": {},
   "source": [
    "# 2. Define a function to search for videos and sort by views"
   ]
  },
  {
   "cell_type": "code",
   "execution_count": 5,
   "id": "b5e2931f-bbb9-4b91-9ec4-1fb03966f89e",
   "metadata": {},
   "outputs": [],
   "source": [
    "# This function performs a video search on YouTube using the API\n",
    "def search_youtube_videos(query, num_results=50):\n",
    "    youtube = build('youtube', 'v3', developerKey=API_KEY)\n",
    "\n",
    "    video_ids = []\n",
    "    next_page_token = None\n",
    "\n",
    "    while len(video_ids) < num_results:\n",
    "        # Perform API query\n",
    "        search_response = youtube.search().list(\n",
    "            q=query,\n",
    "            type='video',\n",
    "            part='id,snippet',\n",
    "            maxResults=50,\n",
    "            relevanceLanguage='de',\n",
    "            pageToken=next_page_token\n",
    "        ).execute()\n",
    "\n",
    "        video_ids.extend([item['id']['videoId'] for item in search_response['items']])\n",
    "        next_page_token = search_response.get('nextPageToken')\n",
    "\n",
    "        if not next_page_token:\n",
    "            break\n",
    "\n",
    "    # Fetch video details in batches of 50\n",
    "    all_videos = []\n",
    "    for i in range(0, len(video_ids), 50):\n",
    "        videos_response = youtube.videos().list(\n",
    "            id=','.join(video_ids[i:i+50]),\n",
    "            part='id,snippet,statistics,contentDetails',\n",
    "            maxResults=50\n",
    "        ).execute()\n",
    "\n",
    "        all_videos.extend(videos_response['items'])\n",
    "\n",
    "    # Sort videos by view count\n",
    "    sorted_videos = sorted(all_videos, key=lambda x: int(x['statistics']['viewCount']), reverse=True)\n",
    "\n",
    "    # Write the data rows\n",
    "    result_list = []\n",
    "    for item in sorted_videos:\n",
    "        row = {\n",
    "            \"published_at\": item[\"snippet\"][\"publishedAt\"],\n",
    "            \"channel_id\": item[\"snippet\"][\"channelId\"],\n",
    "            \"yt_id\": item[\"id\"],\n",
    "            \"url\": f\"https://www.youtube.com/watch?v={item['id']}\",\n",
    "            \"title\": item[\"snippet\"][\"title\"],\n",
    "            \"description\": item[\"snippet\"][\"description\"],\n",
    "            \"duration\": isodate.parse_duration(item['contentDetails']['duration']).total_seconds(),\n",
    "            \"views\": item[\"statistics\"][\"viewCount\"],\n",
    "            \"language\": item[\"snippet\"][\"defaultAudioLanguage\"] if \"defaultAudioLanguage\" in item[\"snippet\"] else \"N/A\",\n",
    "            \"thumbnail\": item[\"snippet\"][\"thumbnails\"][\"high\"][\"url\"],\n",
    "            \"channel_title\": item[\"snippet\"][\"channelTitle\"]\n",
    "        }\n",
    "        result_list.append(row)\n",
    "\n",
    "    return result_list"
   ]
  },
  {
   "cell_type": "markdown",
   "id": "8cbdad2b-0331-4f05-aafc-e66d4881deb8",
   "metadata": {},
   "source": [
    "# 3. Define a function to write videos to CSV file"
   ]
  },
  {
   "cell_type": "code",
   "execution_count": 6,
   "id": "92a33fcc-05bc-41d2-87ac-24040d8b3395",
   "metadata": {},
   "outputs": [],
   "source": [
    "# This function takes a list of videos and their metadata and saves the information to a CSV file\n",
    "def write_videos_to_csv(videos, csv_file):\n",
    "    fields = [\"published_at\", \"channel_id\", \"yt_id\", \"url\", \"title\", \"description\", \"duration\", \"views\", \"language\", \"thumbnail\", \"channel_title\"]\n",
    "\n",
    "    # Write data to the CSV file\n",
    "    with open(csv_file, mode='w', newline='', encoding='utf-8') as file:\n",
    "        writer = csv.DictWriter(file, fieldnames=fields, quoting=csv.QUOTE_ALL, escapechar='\\\\')\n",
    "        \n",
    "        # Write the header row\n",
    "        writer.writeheader()\n",
    "        \n",
    "        # Write the data rows\n",
    "        for item in videos:\n",
    "            writer.writerow(item)\n",
    "\n",
    "    print(f\"Data successfully written to {csv_file}\")   \n",
    "    "
   ]
  },
  {
   "cell_type": "markdown",
   "id": "0df3370b-1a43-4183-babc-2215bab826e9",
   "metadata": {},
   "source": [
    "# 4. Run for a YouTube channel"
   ]
  },
  {
   "cell_type": "code",
   "execution_count": null,
   "id": "ce92ea69-4a33-4055-a4b5-6b4d6c94d46f",
   "metadata": {},
   "outputs": [],
   "source": [
    "# Define a variable to store the YouTube's channel ID\n",
    "channel_id = \"UCAuUUnT6oDeKwE6v1NGQxug\" # TED channel\n",
    "\n",
    "# Run the function from above to retrieve all videos from the given channel\n",
    "videos = get_channel_videos(channel_id)\n",
    "\n",
    "# Define the name of the output file\n",
    "output_file = \"videos_from_ted_channel.csv\"\n",
    "\n",
    "# Write the results to a CSV file\n",
    "write_videos_to_csv(videos, f\"{CSV_OUTPUT_FOLDER}/{output_file}\")"
   ]
  },
  {
   "cell_type": "markdown",
   "id": "a71df30f-6ba0-48fa-a132-d6511de241e7",
   "metadata": {},
   "source": [
    "# 5. Run for a keyword search on YouTube"
   ]
  },
  {
   "cell_type": "code",
   "execution_count": null,
   "id": "b4f9fca1-967c-4f3e-95f1-a0b64effd3b3",
   "metadata": {},
   "outputs": [],
   "source": [
    "# Run the function from above to perform a YouTube search via the API\n",
    "videos = search_youtube_videos(\"Vegane Ernährung\", 50)\n",
    "\n",
    "# Define the name of the output file\n",
    "output_file = \"videos_from_search.csv\"\n",
    "\n",
    "# Write the results to a CSV file\n",
    "write_videos_to_csv(videos, f\"{CSV_OUTPUT_FOLDER}/{output_file}\")"
   ]
  },
  {
   "cell_type": "markdown",
   "id": "624fce01",
   "metadata": {},
   "source": [
    "# 6. Combine output of multiple CSV files into one"
   ]
  },
  {
   "cell_type": "code",
   "execution_count": null,
   "id": "bec64e96",
   "metadata": {},
   "outputs": [],
   "source": [
    "import pandas as pd\n",
    "import glob\n",
    "\n",
    "output_file_name = \"videos_combined.csv\"\n",
    "\n",
    "# Get a list of all CSV files in the output directory\n",
    "all_files = glob.glob(CSV_OUTPUT_FOLDER + \"/*.csv\")\n",
    "\n",
    "# Create an empty list to store DataFrames\n",
    "dfs = []\n",
    "\n",
    "# Loop through each file and read it into a DataFrame, then append to the list\n",
    "for filename in all_files:\n",
    "    print(filename)\n",
    "    df = pd.read_csv(filename)\n",
    "    dfs.append(df)\n",
    "\n",
    "# Concatenate all DataFrames in the list into a single DataFrame\n",
    "combined_df = pd.concat(dfs, ignore_index=True)\n",
    "\n",
    "# Write the combined DataFrame to a new CSV file\n",
    "combined_df.to_csv(f\"{CSV_OUTPUT_FOLDER}/{output_file_name}\", index=False)"
   ]
  }
 ],
 "metadata": {
  "kernelspec": {
   "display_name": "Python 3 (ipykernel)",
   "language": "python",
   "name": "python3"
  },
  "language_info": {
   "codemirror_mode": {
    "name": "ipython",
    "version": 3
   },
   "file_extension": ".py",
   "mimetype": "text/x-python",
   "name": "python",
   "nbconvert_exporter": "python",
   "pygments_lexer": "ipython3",
   "version": "3.11.5"
  }
 },
 "nbformat": 4,
 "nbformat_minor": 5
}
