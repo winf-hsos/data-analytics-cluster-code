{
 "cells": [
  {
   "cell_type": "markdown",
   "metadata": {},
   "source": [
    "# 0. Install required libraries and define constants"
   ]
  },
  {
   "cell_type": "code",
   "execution_count": null,
   "metadata": {},
   "outputs": [],
   "source": [
    "pip install openai"
   ]
  },
  {
   "cell_type": "code",
   "execution_count": null,
   "metadata": {},
   "outputs": [],
   "source": [
    "%env OPENAI_API_KEY=<REPLACE_WITH_YOUR_KEY>"
   ]
  },
  {
   "cell_type": "markdown",
   "metadata": {},
   "source": [
    "# 1. Setup OpenAI client"
   ]
  },
  {
   "cell_type": "code",
   "execution_count": null,
   "metadata": {},
   "outputs": [],
   "source": [
    "from openai import OpenAI\n",
    "client = OpenAI()"
   ]
  },
  {
   "cell_type": "markdown",
   "metadata": {},
   "source": [
    "Setup a completion request, which is basically a history of messages that the model will use to generate a response."
   ]
  },
  {
   "cell_type": "code",
   "execution_count": null,
   "metadata": {},
   "outputs": [],
   "source": [
    "response = client.chat.completions.create(\n",
    "  model=\"gpt-4o\",\n",
    "  messages=[\n",
    "    {\"role\": \"system\", \"content\": \"You are a helpful assistant.\"},\n",
    "    {\"role\": \"user\", \"content\": \"What is the capital of Germany?\"},\n",
    "    {\"role\": \"assistant\", \"content\": \"The capital of Germany is Berlin. Berlin has around 3 Million inhabitants. The most important attraction is the 'Brandenburger Tor'\"},\n",
    "    {\"role\": \"user\", \"content\": \"What is the capital of Italy?\"},\n",
    "  ]\n",
    ")"
   ]
  },
  {
   "cell_type": "markdown",
   "metadata": {},
   "source": [
    "Print the response from the GTP-4o model."
   ]
  },
  {
   "cell_type": "code",
   "execution_count": null,
   "metadata": {},
   "outputs": [],
   "source": [
    "print(response.choices[0].message.content)"
   ]
  },
  {
   "cell_type": "markdown",
   "metadata": {},
   "source": [
    "# 2. Load the transripts and perform the same action for each"
   ]
  },
  {
   "cell_type": "markdown",
   "metadata": {},
   "source": [
    "Define a folder to save the GPT-4o's output for each transcript to:"
   ]
  },
  {
   "cell_type": "code",
   "execution_count": null,
   "metadata": {},
   "outputs": [],
   "source": [
    "LLM_OUTPUT_FOLDER = \"llm_ouput\"\n",
    "\n",
    "import os\n",
    "\n",
    "# Check if the folder exists, if not, create it\n",
    "if not os.path.exists(LLM_OUTPUT_FOLDER):\n",
    "    os.makedirs(LLM_OUTPUT_FOLDER)\n",
    "    print(f\"Folder '{LLM_OUTPUT_FOLDER}' created.\")\n",
    "else:\n",
    "    print(f\"Folder '{LLM_OUTPUT_FOLDER}' already exists.\")"
   ]
  },
  {
   "cell_type": "markdown",
   "metadata": {},
   "source": [
    "Create a function that takes a transcript and creates a prompt object for GPT-4o:"
   ]
  },
  {
   "cell_type": "code",
   "execution_count": null,
   "metadata": {},
   "outputs": [],
   "source": [
    "def create_prompt_messages(transcript):\n",
    "    messages = [\n",
    "        {\"role\": \"user\", \"content\": f\"Extract all people mentioned in the following video transcript as a comma-separated list. Only include famous or well-known people. DO NOT PREPEND ANYTHING BEFORE THE LIST! \\n\\nHere is the transcript: '{transcript.strip()}'\"}\n",
    "    ]\n",
    "    return messages"
   ]
  },
  {
   "cell_type": "markdown",
   "metadata": {},
   "source": [
    "Define a function to write GPT-4o's results to a file"
   ]
  },
  {
   "cell_type": "code",
   "execution_count": null,
   "metadata": {},
   "outputs": [],
   "source": [
    "import csv\n",
    "\n",
    "def write_result_to_file(llm_results, output_file_name):\n",
    "    \n",
    "    fields = [\"file_name\", \"transcript\", \"llm_result\"]\n",
    "\n",
    "    csv_file = f\"{LLM_OUTPUT_FOLDER}/{output_file_name}\" \n",
    "    \n",
    "    # Write data to the CSV file\n",
    "    with open(csv_file, mode='w', newline='', encoding='utf-8') as file:\n",
    "        writer = csv.DictWriter(file, fieldnames=fields, quoting=csv.QUOTE_ALL, escapechar='\\\\')\n",
    "        \n",
    "        # Write the header row\n",
    "        writer.writeheader()\n",
    "        \n",
    "        # Write the data rows\n",
    "        for row in llm_results:\n",
    "            writer.writerow(row)\n",
    "\n",
    "    print(f\"Data successfully written to {csv_file}\")\n",
    "\n",
    "    "
   ]
  },
  {
   "cell_type": "markdown",
   "metadata": {},
   "source": [
    "Iterate through all files in the transcript folder and process with GPT-4o:"
   ]
  },
  {
   "cell_type": "code",
   "execution_count": null,
   "metadata": {},
   "outputs": [],
   "source": [
    "import os\n",
    "import glob\n",
    "\n",
    "# Define the folder path\n",
    "folder_path = \"transcripts\"\n",
    "\n",
    "# Get a list of all text files in the folder\n",
    "transcript_files = glob.glob(os.path.join(folder_path, '*.txt'))\n",
    "\n",
    "rows = []\n",
    "\n",
    "counter = 0\n",
    "max_transcripts = 10\n",
    "\n",
    "# Iterate through the list of text files\n",
    "for file_path in transcript_files:\n",
    "\n",
    "    # Leave the loop if we have surpassed the threshold\n",
    "    if counter > max_transcripts:\n",
    "            break\n",
    "    \n",
    "    with open(file_path, 'r', encoding='utf-8') as file:\n",
    "        \n",
    "        # Read the content of the file and append it to the variable\n",
    "        transcript = file.read()\n",
    "        print(f\"File: {file_path} with length {len(transcript)}\")\n",
    "\n",
    "        # Create the messages object using the previously defined function\n",
    "        messages = create_prompt_messages(transcript)\n",
    "\n",
    "        try:\n",
    "            output = client.chat.completions.create(\n",
    "                model=\"gpt-4o\",\n",
    "                 messages=messages\n",
    "                 )\n",
    "            llm_result = output.choices[0].message.content\n",
    "            row = { \"file_name\" : file_path, \"transcript\": transcript, \"llm_result\": llm_result }\n",
    "            rows.append(row)\n",
    "        except Exception as e:\n",
    "            print(f\"Error: {e}\")\n",
    "\n",
    "    # Increase counter\n",
    "    counter = counter + 1\n",
    "\n",
    "write_result_to_file(rows, \"extracted_people_gpt4o.csv\")"
   ]
  }
 ],
 "metadata": {
  "kernelspec": {
   "display_name": ".env",
   "language": "python",
   "name": "python3"
  },
  "language_info": {
   "codemirror_mode": {
    "name": "ipython",
    "version": 3
   },
   "file_extension": ".py",
   "mimetype": "text/x-python",
   "name": "python",
   "nbconvert_exporter": "python",
   "pygments_lexer": "ipython3",
   "version": "3.11.9"
  }
 },
 "nbformat": 4,
 "nbformat_minor": 2
}
