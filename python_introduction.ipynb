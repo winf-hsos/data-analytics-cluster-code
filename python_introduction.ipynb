{
 "cells": [
  {
   "cell_type": "markdown",
   "metadata": {},
   "source": [
    "# Python Introduction \n",
    "This notebook gives a brief introduction to Python programming language and how to work with Jupyter notebooks on the HPC cluster.\n"
   ]
  },
  {
   "cell_type": "markdown",
   "metadata": {},
   "source": [
    "## Python Cells\n",
    "You can enter Python code into a so-called cell. Make sure the cell's language is set to Python (not Markdown). To exeuute the code in the cell, press `Ctrl+Enter`. Alternatively, you can press `Shift+Enter` to execute the cell and move to the next cell afterwards."
   ]
  },
  {
   "cell_type": "code",
   "execution_count": null,
   "metadata": {},
   "outputs": [],
   "source": [
    "# Declare a variable and assign a value\n",
    "x = 3 + 4\n",
    "\n",
    "# Print the value of the variable\n",
    "print(x)"
   ]
  },
  {
   "cell_type": "markdown",
   "metadata": {},
   "source": [
    "In a Jupyter notebook, we typically write our code across multiple cells. This allows us to run the code in each cell independently. We can also run the whole notebook in one go. To do this, click on `Run` in the menu and then `Run All Cells`."
   ]
  },
  {
   "cell_type": "markdown",
   "metadata": {},
   "source": []
  }
 ],
 "metadata": {
  "language_info": {
   "name": "python"
  }
 },
 "nbformat": 4,
 "nbformat_minor": 2
}
