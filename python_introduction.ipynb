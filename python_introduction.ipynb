{
 "cells": [
  {
   "cell_type": "markdown",
   "metadata": {},
   "source": [
    "# Python Introduction \n",
    "This notebook gives a brief introduction to Python programming language and how to work with Jupyter notebooks on the HPC cluster.\n"
   ]
  },
  {
   "cell_type": "code",
   "execution_count": null,
   "metadata": {},
   "outputs": [],
   "source": [
    "# You can enter Python code into a so-called cell. Make sure the cell's language is set to Python (not Markdown).\n",
    "x = 3 + 4\n",
    "print(x)"
   ]
  }
 ],
 "metadata": {
  "language_info": {
   "name": "python"
  }
 },
 "nbformat": 4,
 "nbformat_minor": 2
}
